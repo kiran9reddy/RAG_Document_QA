{
 "cells": [
  {
   "cell_type": "code",
   "execution_count": null,
   "id": "22324899",
   "metadata": {},
   "outputs": [],
   "source": [
    "# Upload PDFs\n",
    "from google.colab import files\n",
    "uploaded = files.upload()\n",
    "for fn in uploaded.keys():\n",
    "    print(\"Uploaded:\", fn)\n",
    "\n",
    "# Install dependencies\n",
    "!pip install -q -r ../requirements.txt\n",
    "\n",
    "# Ingest PDFs and build vectorstore\n",
    "from src.ingest import ingest_pdfs\n",
    "vectordb = ingest_pdfs(pdf_folder=\"data/\", persist_directory=\"vectorstore\")\n",
    "\n",
    "# Test question-answer\n",
    "from src.qa_system import answer_question\n",
    "q = \"What is the main topic of the PDF?\"\n",
    "print(answer_question(q))\n"
   ]
  }
 ],
 "metadata": {
  "language_info": {
   "name": "python"
  }
 },
 "nbformat": 4,
 "nbformat_minor": 5
}
